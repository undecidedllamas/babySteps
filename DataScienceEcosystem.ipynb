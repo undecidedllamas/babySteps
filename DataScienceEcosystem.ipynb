{
 "cells": [
  {
   "cell_type": "markdown",
   "id": "04c7ec97",
   "metadata": {},
   "source": [
    "# Data Science Tools and Ecosystems"
   ]
  },
  {
   "cell_type": "markdown",
   "id": "770dbc7b",
   "metadata": {},
   "source": [
    "In this notebook, Data Science Tools and Ecosystems are sumarized."
   ]
  },
  {
   "cell_type": "markdown",
   "id": "f6763c84",
   "metadata": {},
   "source": [
    "## Author\n",
    "Chloe"
   ]
  },
  {
   "cell_type": "markdown",
   "id": "47305983",
   "metadata": {},
   "source": [
    "Some of the popular languages that Data Scientists use are: \n",
    "1. Python\n",
    "2. R\n",
    "3. SQL\n",
    "4. Scala\n",
    "5. C++"
   ]
  },
  {
   "cell_type": "markdown",
   "id": "d66f66cb",
   "metadata": {},
   "source": [
    "| Data Science Tools |\n",
    "| ------ |\n",
    "|JupyterNotebook|\n",
    "|R Studio|\n",
    "|Watson Studio|\n"
   ]
  },
  {
   "cell_type": "markdown",
   "id": "0e608df0",
   "metadata": {},
   "source": [
    "### Below are a few examples of evaluating arithmetic expressions in Python"
   ]
  },
  {
   "cell_type": "code",
   "execution_count": 1,
   "id": "257aa188",
   "metadata": {},
   "outputs": [
    {
     "data": {
      "text/plain": [
       "17"
      ]
     },
     "execution_count": 1,
     "metadata": {},
     "output_type": "execute_result"
    }
   ],
   "source": [
    "#This is a simple arithmetic expression to multiply then add intergers\n",
    "(3*4)+5"
   ]
  },
  {
   "cell_type": "code",
   "execution_count": 2,
   "id": "1881c462",
   "metadata": {},
   "outputs": [
    {
     "name": "stdout",
     "output_type": "stream",
     "text": [
      "3.3333333333333335\n"
     ]
    }
   ],
   "source": [
    "#Converting minutes (min) to hours (hr)\n",
    "min = 200\n",
    "convfact = 60\n",
    "hr = min / convfact\n",
    "print(hr)"
   ]
  },
  {
   "cell_type": "markdown",
   "id": "8e74e8f2",
   "metadata": {},
   "source": []
  }
 ],
 "metadata": {
  "kernelspec": {
   "display_name": "Python 3 (ipykernel)",
   "language": "python",
   "name": "python3"
  },
  "language_info": {
   "codemirror_mode": {
    "name": "ipython",
    "version": 3
   },
   "file_extension": ".py",
   "mimetype": "text/x-python",
   "name": "python",
   "nbconvert_exporter": "python",
   "pygments_lexer": "ipython3",
   "version": "3.10.11"
  }
 },
 "nbformat": 4,
 "nbformat_minor": 5
}
