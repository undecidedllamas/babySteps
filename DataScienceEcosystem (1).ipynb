{
 "cells": [
  {
   "cell_type": "markdown",
   "id": "e7e1f8ec",
   "metadata": {},
   "source": [
    "# Data Science Tools and Ecosystems"
   ]
  },
  {
   "cell_type": "markdown",
   "id": "90c470fd",
   "metadata": {},
   "source": [
    "In this notebook, Data Science Tools and Ecosystems are sumarized."
   ]
  },
  {
   "cell_type": "markdown",
   "id": "a6b84473",
   "metadata": {},
   "source": [
    "**Objectives:**\n",
    "\n",
    "    * List popular languages for Data Science\n",
    "    * Common libraries used in Data Science\n",
    "    * Data Science Tools\n",
    "    * Arithmetic Action"
   ]
  },
  {
   "cell_type": "markdown",
   "id": "1106ff35",
   "metadata": {},
   "source": [
    "## Author\n",
    "Chloe"
   ]
  },
  {
   "cell_type": "markdown",
   "id": "b70b6589",
   "metadata": {},
   "source": [
    "Some of the popular languages that Data Scientists use are: \n",
    "1. Python\n",
    "2. R\n",
    "3. SQL\n",
    "4. Scala\n",
    "5. C++"
   ]
  },
  {
   "cell_type": "markdown",
   "id": "10fa1259",
   "metadata": {},
   "source": [
    "Some of the commonly used libraries used by Data Scientists include: \n",
    "1. GGally\n",
    "2. Pandas\n",
    "3. NumPy\n",
    "4. Matplotlib\n",
    "5. Scikit-learn \n",
    "\n"
   ]
  },
  {
   "cell_type": "markdown",
   "id": "27727acb",
   "metadata": {},
   "source": [
    "| Data Science Tools |\n",
    "| ------ |\n",
    "|JupyterNotebook|\n",
    "|R Studio|\n",
    "|Watson Studio|\n"
   ]
  },
  {
   "cell_type": "markdown",
   "id": "9f5fe1d2",
   "metadata": {},
   "source": [
    "### Below are a few examples of evaluating arithmetic expressions in Python"
   ]
  },
  {
   "cell_type": "code",
   "execution_count": 1,
   "id": "37fa764c",
   "metadata": {},
   "outputs": [
    {
     "data": {
      "text/plain": [
       "17"
      ]
     },
     "execution_count": 1,
     "metadata": {},
     "output_type": "execute_result"
    }
   ],
   "source": [
    "#This is a simple arithmetic expression to multiply then add intergers\n",
    "(3*4)+5"
   ]
  },
  {
   "cell_type": "code",
   "execution_count": 2,
   "id": "3e0f9198",
   "metadata": {},
   "outputs": [
    {
     "name": "stdout",
     "output_type": "stream",
     "text": [
      "3.3333333333333335\n"
     ]
    }
   ],
   "source": [
    "#Converting minutes (min) to hours (hr)\n",
    "min = 200\n",
    "convfact = 60\n",
    "hr = min / convfact\n",
    "print(hr)"
   ]
  },
  {
   "cell_type": "markdown",
   "id": "9fd41177",
   "metadata": {},
   "source": []
  }
 ],
 "metadata": {
  "kernelspec": {
   "display_name": "Python 3 (ipykernel)",
   "language": "python",
   "name": "python3"
  },
  "language_info": {
   "codemirror_mode": {
    "name": "ipython",
    "version": 3
   },
   "file_extension": ".py",
   "mimetype": "text/x-python",
   "name": "python",
   "nbconvert_exporter": "python",
   "pygments_lexer": "ipython3",
   "version": "3.10.11"
  }
 },
 "nbformat": 4,
 "nbformat_minor": 5
}
